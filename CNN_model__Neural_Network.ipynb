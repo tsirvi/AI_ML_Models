{
  "nbformat": 4,
  "nbformat_minor": 0,
  "metadata": {
    "colab": {
      "provenance": [],
      "toc_visible": true
    },
    "kernelspec": {
      "name": "python3",
      "display_name": "Python 3"
    },
    "language_info": {
      "name": "python"
    }
  },
  "cells": [
    {
      "cell_type": "markdown",
      "source": [
        "#**Question 1**\n",
        "1.Load any one data set from the given four csv files or load it from\n",
        "online repositories.\n",
        "\n",
        "2.Perform necessary data preparation.\n",
        "\n",
        "3.Train a Neural Network model of your choice (MLP with minimum 2\n",
        "hidden layers or CNN or RNN).\n",
        "\n",
        "4.Evaluate the model\n",
        "\n",
        "5.Summarize the observations neatly"
      ],
      "metadata": {
        "id": "KzRoIBA-F_Gm"
      }
    },
    {
      "cell_type": "markdown",
      "source": [
        "# CNN for the Dataset \" breast cancer\""
      ],
      "metadata": {
        "id": "CRFLnSVYYBWt"
      }
    },
    {
      "cell_type": "markdown",
      "source": [
        "importing all neccessary packages"
      ],
      "metadata": {
        "id": "uCjbMJ2dGgo6"
      }
    },
    {
      "cell_type": "code",
      "source": [
        "import tensorflow as tf\n",
        "from tensorflow.keras import Sequential\n",
        "from tensorflow.keras.layers import Conv1D, MaxPool1D,Flatten,Dense,Dropout,BatchNormalization\n",
        "from tensorflow.keras.optimizers import Adam"
      ],
      "metadata": {
        "id": "l3zQZDTUaLoz"
      },
      "execution_count": null,
      "outputs": []
    },
    {
      "cell_type": "code",
      "source": [
        "import numpy as np\n",
        "import pandas as pd\n",
        "import matplotlib.pyplot as plt\n",
        "import seaborn as sns"
      ],
      "metadata": {
        "id": "qnICiKYWaSrB"
      },
      "execution_count": null,
      "outputs": []
    },
    {
      "cell_type": "code",
      "source": [
        "from sklearn import datasets,metrics\n",
        "from sklearn.model_selection import train_test_split\n",
        "from sklearn.preprocessing import StandardScaler"
      ],
      "metadata": {
        "id": "eMnEjkrxaVeg"
      },
      "execution_count": null,
      "outputs": []
    },
    {
      "cell_type": "markdown",
      "source": [
        "Loading the dataset"
      ],
      "metadata": {
        "id": "iePGa04cGlL6"
      }
    },
    {
      "cell_type": "code",
      "source": [
        "cancerData = datasets.load_breast_cancer()"
      ],
      "metadata": {
        "id": "0CJBzkpgaYNf"
      },
      "execution_count": null,
      "outputs": []
    },
    {
      "cell_type": "markdown",
      "source": [
        "Displaying the dataset"
      ],
      "metadata": {
        "id": "VOmIIfZtGntX"
      }
    },
    {
      "cell_type": "code",
      "source": [
        "X = pd.DataFrame(data = cancerData.data, columns=cancerData.feature_names )\n",
        "X.head()"
      ],
      "metadata": {
        "colab": {
          "base_uri": "https://localhost:8080/",
          "height": 334
        },
        "id": "SqZfUlnlaagW",
        "outputId": "d6c2affe-bcc9-4ca7-d10c-1c80b42f5f67"
      },
      "execution_count": null,
      "outputs": [
        {
          "output_type": "execute_result",
          "data": {
            "text/plain": [
              "   mean radius  mean texture  mean perimeter  mean area  mean smoothness  \\\n",
              "0        17.99         10.38          122.80     1001.0          0.11840   \n",
              "1        20.57         17.77          132.90     1326.0          0.08474   \n",
              "2        19.69         21.25          130.00     1203.0          0.10960   \n",
              "3        11.42         20.38           77.58      386.1          0.14250   \n",
              "4        20.29         14.34          135.10     1297.0          0.10030   \n",
              "\n",
              "   mean compactness  mean concavity  mean concave points  mean symmetry  \\\n",
              "0           0.27760          0.3001              0.14710         0.2419   \n",
              "1           0.07864          0.0869              0.07017         0.1812   \n",
              "2           0.15990          0.1974              0.12790         0.2069   \n",
              "3           0.28390          0.2414              0.10520         0.2597   \n",
              "4           0.13280          0.1980              0.10430         0.1809   \n",
              "\n",
              "   mean fractal dimension  ...  worst radius  worst texture  worst perimeter  \\\n",
              "0                 0.07871  ...         25.38          17.33           184.60   \n",
              "1                 0.05667  ...         24.99          23.41           158.80   \n",
              "2                 0.05999  ...         23.57          25.53           152.50   \n",
              "3                 0.09744  ...         14.91          26.50            98.87   \n",
              "4                 0.05883  ...         22.54          16.67           152.20   \n",
              "\n",
              "   worst area  worst smoothness  worst compactness  worst concavity  \\\n",
              "0      2019.0            0.1622             0.6656           0.7119   \n",
              "1      1956.0            0.1238             0.1866           0.2416   \n",
              "2      1709.0            0.1444             0.4245           0.4504   \n",
              "3       567.7            0.2098             0.8663           0.6869   \n",
              "4      1575.0            0.1374             0.2050           0.4000   \n",
              "\n",
              "   worst concave points  worst symmetry  worst fractal dimension  \n",
              "0                0.2654          0.4601                  0.11890  \n",
              "1                0.1860          0.2750                  0.08902  \n",
              "2                0.2430          0.3613                  0.08758  \n",
              "3                0.2575          0.6638                  0.17300  \n",
              "4                0.1625          0.2364                  0.07678  \n",
              "\n",
              "[5 rows x 30 columns]"
            ],
            "text/html": [
              "\n",
              "  <div id=\"df-4c7c4c4d-6b70-4236-a31f-ea20964ef46f\">\n",
              "    <div class=\"colab-df-container\">\n",
              "      <div>\n",
              "<style scoped>\n",
              "    .dataframe tbody tr th:only-of-type {\n",
              "        vertical-align: middle;\n",
              "    }\n",
              "\n",
              "    .dataframe tbody tr th {\n",
              "        vertical-align: top;\n",
              "    }\n",
              "\n",
              "    .dataframe thead th {\n",
              "        text-align: right;\n",
              "    }\n",
              "</style>\n",
              "<table border=\"1\" class=\"dataframe\">\n",
              "  <thead>\n",
              "    <tr style=\"text-align: right;\">\n",
              "      <th></th>\n",
              "      <th>mean radius</th>\n",
              "      <th>mean texture</th>\n",
              "      <th>mean perimeter</th>\n",
              "      <th>mean area</th>\n",
              "      <th>mean smoothness</th>\n",
              "      <th>mean compactness</th>\n",
              "      <th>mean concavity</th>\n",
              "      <th>mean concave points</th>\n",
              "      <th>mean symmetry</th>\n",
              "      <th>mean fractal dimension</th>\n",
              "      <th>...</th>\n",
              "      <th>worst radius</th>\n",
              "      <th>worst texture</th>\n",
              "      <th>worst perimeter</th>\n",
              "      <th>worst area</th>\n",
              "      <th>worst smoothness</th>\n",
              "      <th>worst compactness</th>\n",
              "      <th>worst concavity</th>\n",
              "      <th>worst concave points</th>\n",
              "      <th>worst symmetry</th>\n",
              "      <th>worst fractal dimension</th>\n",
              "    </tr>\n",
              "  </thead>\n",
              "  <tbody>\n",
              "    <tr>\n",
              "      <th>0</th>\n",
              "      <td>17.99</td>\n",
              "      <td>10.38</td>\n",
              "      <td>122.80</td>\n",
              "      <td>1001.0</td>\n",
              "      <td>0.11840</td>\n",
              "      <td>0.27760</td>\n",
              "      <td>0.3001</td>\n",
              "      <td>0.14710</td>\n",
              "      <td>0.2419</td>\n",
              "      <td>0.07871</td>\n",
              "      <td>...</td>\n",
              "      <td>25.38</td>\n",
              "      <td>17.33</td>\n",
              "      <td>184.60</td>\n",
              "      <td>2019.0</td>\n",
              "      <td>0.1622</td>\n",
              "      <td>0.6656</td>\n",
              "      <td>0.7119</td>\n",
              "      <td>0.2654</td>\n",
              "      <td>0.4601</td>\n",
              "      <td>0.11890</td>\n",
              "    </tr>\n",
              "    <tr>\n",
              "      <th>1</th>\n",
              "      <td>20.57</td>\n",
              "      <td>17.77</td>\n",
              "      <td>132.90</td>\n",
              "      <td>1326.0</td>\n",
              "      <td>0.08474</td>\n",
              "      <td>0.07864</td>\n",
              "      <td>0.0869</td>\n",
              "      <td>0.07017</td>\n",
              "      <td>0.1812</td>\n",
              "      <td>0.05667</td>\n",
              "      <td>...</td>\n",
              "      <td>24.99</td>\n",
              "      <td>23.41</td>\n",
              "      <td>158.80</td>\n",
              "      <td>1956.0</td>\n",
              "      <td>0.1238</td>\n",
              "      <td>0.1866</td>\n",
              "      <td>0.2416</td>\n",
              "      <td>0.1860</td>\n",
              "      <td>0.2750</td>\n",
              "      <td>0.08902</td>\n",
              "    </tr>\n",
              "    <tr>\n",
              "      <th>2</th>\n",
              "      <td>19.69</td>\n",
              "      <td>21.25</td>\n",
              "      <td>130.00</td>\n",
              "      <td>1203.0</td>\n",
              "      <td>0.10960</td>\n",
              "      <td>0.15990</td>\n",
              "      <td>0.1974</td>\n",
              "      <td>0.12790</td>\n",
              "      <td>0.2069</td>\n",
              "      <td>0.05999</td>\n",
              "      <td>...</td>\n",
              "      <td>23.57</td>\n",
              "      <td>25.53</td>\n",
              "      <td>152.50</td>\n",
              "      <td>1709.0</td>\n",
              "      <td>0.1444</td>\n",
              "      <td>0.4245</td>\n",
              "      <td>0.4504</td>\n",
              "      <td>0.2430</td>\n",
              "      <td>0.3613</td>\n",
              "      <td>0.08758</td>\n",
              "    </tr>\n",
              "    <tr>\n",
              "      <th>3</th>\n",
              "      <td>11.42</td>\n",
              "      <td>20.38</td>\n",
              "      <td>77.58</td>\n",
              "      <td>386.1</td>\n",
              "      <td>0.14250</td>\n",
              "      <td>0.28390</td>\n",
              "      <td>0.2414</td>\n",
              "      <td>0.10520</td>\n",
              "      <td>0.2597</td>\n",
              "      <td>0.09744</td>\n",
              "      <td>...</td>\n",
              "      <td>14.91</td>\n",
              "      <td>26.50</td>\n",
              "      <td>98.87</td>\n",
              "      <td>567.7</td>\n",
              "      <td>0.2098</td>\n",
              "      <td>0.8663</td>\n",
              "      <td>0.6869</td>\n",
              "      <td>0.2575</td>\n",
              "      <td>0.6638</td>\n",
              "      <td>0.17300</td>\n",
              "    </tr>\n",
              "    <tr>\n",
              "      <th>4</th>\n",
              "      <td>20.29</td>\n",
              "      <td>14.34</td>\n",
              "      <td>135.10</td>\n",
              "      <td>1297.0</td>\n",
              "      <td>0.10030</td>\n",
              "      <td>0.13280</td>\n",
              "      <td>0.1980</td>\n",
              "      <td>0.10430</td>\n",
              "      <td>0.1809</td>\n",
              "      <td>0.05883</td>\n",
              "      <td>...</td>\n",
              "      <td>22.54</td>\n",
              "      <td>16.67</td>\n",
              "      <td>152.20</td>\n",
              "      <td>1575.0</td>\n",
              "      <td>0.1374</td>\n",
              "      <td>0.2050</td>\n",
              "      <td>0.4000</td>\n",
              "      <td>0.1625</td>\n",
              "      <td>0.2364</td>\n",
              "      <td>0.07678</td>\n",
              "    </tr>\n",
              "  </tbody>\n",
              "</table>\n",
              "<p>5 rows × 30 columns</p>\n",
              "</div>\n",
              "      <button class=\"colab-df-convert\" onclick=\"convertToInteractive('df-4c7c4c4d-6b70-4236-a31f-ea20964ef46f')\"\n",
              "              title=\"Convert this dataframe to an interactive table.\"\n",
              "              style=\"display:none;\">\n",
              "        \n",
              "  <svg xmlns=\"http://www.w3.org/2000/svg\" height=\"24px\"viewBox=\"0 0 24 24\"\n",
              "       width=\"24px\">\n",
              "    <path d=\"M0 0h24v24H0V0z\" fill=\"none\"/>\n",
              "    <path d=\"M18.56 5.44l.94 2.06.94-2.06 2.06-.94-2.06-.94-.94-2.06-.94 2.06-2.06.94zm-11 1L8.5 8.5l.94-2.06 2.06-.94-2.06-.94L8.5 2.5l-.94 2.06-2.06.94zm10 10l.94 2.06.94-2.06 2.06-.94-2.06-.94-.94-2.06-.94 2.06-2.06.94z\"/><path d=\"M17.41 7.96l-1.37-1.37c-.4-.4-.92-.59-1.43-.59-.52 0-1.04.2-1.43.59L10.3 9.45l-7.72 7.72c-.78.78-.78 2.05 0 2.83L4 21.41c.39.39.9.59 1.41.59.51 0 1.02-.2 1.41-.59l7.78-7.78 2.81-2.81c.8-.78.8-2.07 0-2.86zM5.41 20L4 18.59l7.72-7.72 1.47 1.35L5.41 20z\"/>\n",
              "  </svg>\n",
              "      </button>\n",
              "      \n",
              "  <style>\n",
              "    .colab-df-container {\n",
              "      display:flex;\n",
              "      flex-wrap:wrap;\n",
              "      gap: 12px;\n",
              "    }\n",
              "\n",
              "    .colab-df-convert {\n",
              "      background-color: #E8F0FE;\n",
              "      border: none;\n",
              "      border-radius: 50%;\n",
              "      cursor: pointer;\n",
              "      display: none;\n",
              "      fill: #1967D2;\n",
              "      height: 32px;\n",
              "      padding: 0 0 0 0;\n",
              "      width: 32px;\n",
              "    }\n",
              "\n",
              "    .colab-df-convert:hover {\n",
              "      background-color: #E2EBFA;\n",
              "      box-shadow: 0px 1px 2px rgba(60, 64, 67, 0.3), 0px 1px 3px 1px rgba(60, 64, 67, 0.15);\n",
              "      fill: #174EA6;\n",
              "    }\n",
              "\n",
              "    [theme=dark] .colab-df-convert {\n",
              "      background-color: #3B4455;\n",
              "      fill: #D2E3FC;\n",
              "    }\n",
              "\n",
              "    [theme=dark] .colab-df-convert:hover {\n",
              "      background-color: #434B5C;\n",
              "      box-shadow: 0px 1px 3px 1px rgba(0, 0, 0, 0.15);\n",
              "      filter: drop-shadow(0px 1px 2px rgba(0, 0, 0, 0.3));\n",
              "      fill: #FFFFFF;\n",
              "    }\n",
              "  </style>\n",
              "\n",
              "      <script>\n",
              "        const buttonEl =\n",
              "          document.querySelector('#df-4c7c4c4d-6b70-4236-a31f-ea20964ef46f button.colab-df-convert');\n",
              "        buttonEl.style.display =\n",
              "          google.colab.kernel.accessAllowed ? 'block' : 'none';\n",
              "\n",
              "        async function convertToInteractive(key) {\n",
              "          const element = document.querySelector('#df-4c7c4c4d-6b70-4236-a31f-ea20964ef46f');\n",
              "          const dataTable =\n",
              "            await google.colab.kernel.invokeFunction('convertToInteractive',\n",
              "                                                     [key], {});\n",
              "          if (!dataTable) return;\n",
              "\n",
              "          const docLinkHtml = 'Like what you see? Visit the ' +\n",
              "            '<a target=\"_blank\" href=https://colab.research.google.com/notebooks/data_table.ipynb>data table notebook</a>'\n",
              "            + ' to learn more about interactive tables.';\n",
              "          element.innerHTML = '';\n",
              "          dataTable['output_type'] = 'display_data';\n",
              "          await google.colab.output.renderOutput(dataTable, element);\n",
              "          const docLink = document.createElement('div');\n",
              "          docLink.innerHTML = docLinkHtml;\n",
              "          element.appendChild(docLink);\n",
              "        }\n",
              "      </script>\n",
              "    </div>\n",
              "  </div>\n",
              "  "
            ]
          },
          "metadata": {},
          "execution_count": 23
        }
      ]
    },
    {
      "cell_type": "code",
      "source": [
        "y = cancerData.target"
      ],
      "metadata": {
        "id": "80zuVXG3adV0"
      },
      "execution_count": null,
      "outputs": []
    },
    {
      "cell_type": "code",
      "source": [
        "X.shape"
      ],
      "metadata": {
        "colab": {
          "base_uri": "https://localhost:8080/"
        },
        "id": "U_1wGdDIafln",
        "outputId": "c97ec704-92f6-4aa2-ece0-4fcc30792a91"
      },
      "execution_count": null,
      "outputs": [
        {
          "output_type": "execute_result",
          "data": {
            "text/plain": [
              "(569, 30)"
            ]
          },
          "metadata": {},
          "execution_count": 11
        }
      ]
    },
    {
      "cell_type": "markdown",
      "source": [
        "Training and testing the data"
      ],
      "metadata": {
        "id": "uK1JiFsRG4pB"
      }
    },
    {
      "cell_type": "code",
      "source": [
        "X_train,X_test,y_train,y_test= train_test_split(X,y,test_size=0.1,stratify=y)"
      ],
      "metadata": {
        "id": "-WMDbbhHah5g"
      },
      "execution_count": null,
      "outputs": []
    },
    {
      "cell_type": "markdown",
      "source": [
        "Extracting the Train data features"
      ],
      "metadata": {
        "id": "QUNX8USnG91v"
      }
    },
    {
      "cell_type": "code",
      "source": [
        "X_train.shape"
      ],
      "metadata": {
        "colab": {
          "base_uri": "https://localhost:8080/"
        },
        "id": "1sJTbgbzajz9",
        "outputId": "5310cdb1-2efe-465b-8f70-094154a06df3"
      },
      "execution_count": null,
      "outputs": [
        {
          "output_type": "execute_result",
          "data": {
            "text/plain": [
              "(512, 30)"
            ]
          },
          "metadata": {},
          "execution_count": 13
        }
      ]
    },
    {
      "cell_type": "markdown",
      "source": [
        "Extracting the test data features"
      ],
      "metadata": {
        "id": "5BA7BSYNHD1I"
      }
    },
    {
      "cell_type": "code",
      "source": [
        "y_test.shape"
      ],
      "metadata": {
        "colab": {
          "base_uri": "https://localhost:8080/"
        },
        "id": "mZnwpoIRamiq",
        "outputId": "07707978-78a5-4c75-824f-3998a5df069e"
      },
      "execution_count": null,
      "outputs": [
        {
          "output_type": "execute_result",
          "data": {
            "text/plain": [
              "(57,)"
            ]
          },
          "metadata": {},
          "execution_count": 14
        }
      ]
    },
    {
      "cell_type": "code",
      "source": [
        "scaler = StandardScaler()"
      ],
      "metadata": {
        "id": "kmQyKpF_apnc"
      },
      "execution_count": null,
      "outputs": []
    },
    {
      "cell_type": "code",
      "source": [
        "X_train = scaler.fit_transform(X_train)\n",
        "X_test = scaler.transform(X_test)"
      ],
      "metadata": {
        "id": "TityUuzZarvh"
      },
      "execution_count": null,
      "outputs": []
    },
    {
      "cell_type": "markdown",
      "source": [
        "Reshaping the dataset to 3-D to pass it through CNN"
      ],
      "metadata": {
        "id": "iz8pNAb_awZh"
      }
    },
    {
      "cell_type": "code",
      "source": [
        "X_train = X_train.reshape(512,30,1)\n",
        "X_test = X_test.reshape(57,30,1)"
      ],
      "metadata": {
        "id": "SwcsQft4axB2"
      },
      "execution_count": null,
      "outputs": []
    },
    {
      "cell_type": "markdown",
      "source": [
        "Preparing the Model"
      ],
      "metadata": {
        "id": "HgHaiZRaa0Vi"
      }
    },
    {
      "cell_type": "code",
      "source": [
        "#defining the Filter size,kernel size,activation function and input\n",
        "model = Sequential()\n",
        "model.add(Conv1D(filters=16,kernel_size=2,activation='relu',input_shape=(30,1)))\n",
        "model.add(BatchNormalization())\n",
        "model.add(Dropout(0.2))\n",
        "\n",
        "#converting the data ino 1D\n",
        "model.add(Conv1D(32,2,activation='relu'))\n",
        "model.add(BatchNormalization())\n",
        "model.add(Dropout(0.2))\n",
        "\n",
        "#flattening the data\n",
        "model.add(Flatten())\n",
        "model.add(Dense(32,activation='relu'))\n",
        "model.add(Dropout(0.2))\n",
        "\n",
        "model.add(Dense(1,activation='sigmoid'))"
      ],
      "metadata": {
        "id": "OcLGk0J5a070"
      },
      "execution_count": null,
      "outputs": []
    },
    {
      "cell_type": "code",
      "source": [
        "model.summary()"
      ],
      "metadata": {
        "colab": {
          "base_uri": "https://localhost:8080/"
        },
        "id": "qIrTWRDTa5VK",
        "outputId": "797aa17b-dae7-4e93-a7e6-dd899fc40fa1"
      },
      "execution_count": null,
      "outputs": [
        {
          "output_type": "stream",
          "name": "stdout",
          "text": [
            "Model: \"sequential\"\n",
            "_________________________________________________________________\n",
            " Layer (type)                Output Shape              Param #   \n",
            "=================================================================\n",
            " conv1d_1 (Conv1D)           (None, 29, 16)            48        \n",
            "                                                                 \n",
            " batch_normalization (BatchN  (None, 29, 16)           64        \n",
            " ormalization)                                                   \n",
            "                                                                 \n",
            " dropout_2 (Dropout)         (None, 29, 16)            0         \n",
            "                                                                 \n",
            " conv1d_2 (Conv1D)           (None, 28, 32)            1056      \n",
            "                                                                 \n",
            " batch_normalization_1 (Batc  (None, 28, 32)           128       \n",
            " hNormalization)                                                 \n",
            "                                                                 \n",
            " dropout_3 (Dropout)         (None, 28, 32)            0         \n",
            "                                                                 \n",
            " flatten (Flatten)           (None, 896)               0         \n",
            "                                                                 \n",
            " dense_4 (Dense)             (None, 32)                28704     \n",
            "                                                                 \n",
            " dropout_4 (Dropout)         (None, 32)                0         \n",
            "                                                                 \n",
            " dense_5 (Dense)             (None, 1)                 33        \n",
            "                                                                 \n",
            "=================================================================\n",
            "Total params: 30,033\n",
            "Trainable params: 29,937\n",
            "Non-trainable params: 96\n",
            "_________________________________________________________________\n"
          ]
        }
      ]
    },
    {
      "cell_type": "code",
      "source": [
        "model.compile(optimizer=Adam(learning_rate=0.0001),loss='binary_crossentropy',metrics=['accuracy'])"
      ],
      "metadata": {
        "id": "RG1xmohUa-gq"
      },
      "execution_count": null,
      "outputs": []
    },
    {
      "cell_type": "code",
      "source": [
        "history = model.fit(X_train,y_train,epochs=35,verbose=1,validation_data=(X_test,y_test))"
      ],
      "metadata": {
        "colab": {
          "base_uri": "https://localhost:8080/"
        },
        "id": "AwWP3NwgbDYV",
        "outputId": "3235a479-46eb-46e9-d8be-479a0583cb67"
      },
      "execution_count": null,
      "outputs": [
        {
          "output_type": "stream",
          "name": "stdout",
          "text": [
            "Epoch 1/35\n",
            "16/16 [==============================] - 2s 28ms/step - loss: 0.6414 - accuracy: 0.6348 - val_loss: 0.6313 - val_accuracy: 0.9298\n",
            "Epoch 2/35\n",
            "16/16 [==============================] - 0s 8ms/step - loss: 0.4340 - accuracy: 0.7930 - val_loss: 0.5795 - val_accuracy: 0.9649\n",
            "Epoch 3/35\n",
            "16/16 [==============================] - 0s 8ms/step - loss: 0.3743 - accuracy: 0.8398 - val_loss: 0.5309 - val_accuracy: 0.9649\n",
            "Epoch 4/35\n",
            "16/16 [==============================] - 0s 7ms/step - loss: 0.2861 - accuracy: 0.8633 - val_loss: 0.4862 - val_accuracy: 0.9649\n",
            "Epoch 5/35\n",
            "16/16 [==============================] - 0s 8ms/step - loss: 0.2654 - accuracy: 0.9004 - val_loss: 0.4436 - val_accuracy: 0.9649\n",
            "Epoch 6/35\n",
            "16/16 [==============================] - 0s 8ms/step - loss: 0.2194 - accuracy: 0.9297 - val_loss: 0.4006 - val_accuracy: 0.9649\n",
            "Epoch 7/35\n",
            "16/16 [==============================] - 0s 8ms/step - loss: 0.2192 - accuracy: 0.9160 - val_loss: 0.3599 - val_accuracy: 0.9649\n",
            "Epoch 8/35\n",
            "16/16 [==============================] - 0s 7ms/step - loss: 0.2063 - accuracy: 0.9277 - val_loss: 0.3204 - val_accuracy: 0.9649\n",
            "Epoch 9/35\n",
            "16/16 [==============================] - 0s 7ms/step - loss: 0.1788 - accuracy: 0.9375 - val_loss: 0.2843 - val_accuracy: 0.9649\n",
            "Epoch 10/35\n",
            "16/16 [==============================] - 0s 8ms/step - loss: 0.1678 - accuracy: 0.9297 - val_loss: 0.2516 - val_accuracy: 0.9649\n",
            "Epoch 11/35\n",
            "16/16 [==============================] - 0s 7ms/step - loss: 0.1527 - accuracy: 0.9414 - val_loss: 0.2211 - val_accuracy: 0.9649\n",
            "Epoch 12/35\n",
            "16/16 [==============================] - 0s 7ms/step - loss: 0.1538 - accuracy: 0.9355 - val_loss: 0.1922 - val_accuracy: 0.9649\n",
            "Epoch 13/35\n",
            "16/16 [==============================] - 0s 7ms/step - loss: 0.1477 - accuracy: 0.9453 - val_loss: 0.1669 - val_accuracy: 0.9649\n",
            "Epoch 14/35\n",
            "16/16 [==============================] - 0s 7ms/step - loss: 0.1355 - accuracy: 0.9492 - val_loss: 0.1456 - val_accuracy: 0.9649\n",
            "Epoch 15/35\n",
            "16/16 [==============================] - 0s 7ms/step - loss: 0.1429 - accuracy: 0.9531 - val_loss: 0.1276 - val_accuracy: 0.9649\n",
            "Epoch 16/35\n",
            "16/16 [==============================] - 0s 8ms/step - loss: 0.1310 - accuracy: 0.9434 - val_loss: 0.1111 - val_accuracy: 0.9649\n",
            "Epoch 17/35\n",
            "16/16 [==============================] - 0s 7ms/step - loss: 0.1377 - accuracy: 0.9473 - val_loss: 0.0975 - val_accuracy: 0.9649\n",
            "Epoch 18/35\n",
            "16/16 [==============================] - 0s 7ms/step - loss: 0.1245 - accuracy: 0.9531 - val_loss: 0.0863 - val_accuracy: 0.9825\n",
            "Epoch 19/35\n",
            "16/16 [==============================] - 0s 8ms/step - loss: 0.1492 - accuracy: 0.9512 - val_loss: 0.0772 - val_accuracy: 0.9825\n",
            "Epoch 20/35\n",
            "16/16 [==============================] - 0s 7ms/step - loss: 0.1011 - accuracy: 0.9668 - val_loss: 0.0684 - val_accuracy: 1.0000\n",
            "Epoch 21/35\n",
            "16/16 [==============================] - 0s 8ms/step - loss: 0.1014 - accuracy: 0.9648 - val_loss: 0.0611 - val_accuracy: 1.0000\n",
            "Epoch 22/35\n",
            "16/16 [==============================] - 0s 8ms/step - loss: 0.0868 - accuracy: 0.9727 - val_loss: 0.0546 - val_accuracy: 1.0000\n",
            "Epoch 23/35\n",
            "16/16 [==============================] - 0s 7ms/step - loss: 0.1127 - accuracy: 0.9629 - val_loss: 0.0491 - val_accuracy: 1.0000\n",
            "Epoch 24/35\n",
            "16/16 [==============================] - 0s 8ms/step - loss: 0.0921 - accuracy: 0.9688 - val_loss: 0.0444 - val_accuracy: 1.0000\n",
            "Epoch 25/35\n",
            "16/16 [==============================] - 0s 8ms/step - loss: 0.1025 - accuracy: 0.9707 - val_loss: 0.0402 - val_accuracy: 1.0000\n",
            "Epoch 26/35\n",
            "16/16 [==============================] - 0s 7ms/step - loss: 0.0967 - accuracy: 0.9668 - val_loss: 0.0360 - val_accuracy: 1.0000\n",
            "Epoch 27/35\n",
            "16/16 [==============================] - 0s 7ms/step - loss: 0.0833 - accuracy: 0.9746 - val_loss: 0.0331 - val_accuracy: 1.0000\n",
            "Epoch 28/35\n",
            "16/16 [==============================] - 0s 7ms/step - loss: 0.0908 - accuracy: 0.9688 - val_loss: 0.0308 - val_accuracy: 1.0000\n",
            "Epoch 29/35\n",
            "16/16 [==============================] - 0s 9ms/step - loss: 0.0940 - accuracy: 0.9707 - val_loss: 0.0300 - val_accuracy: 1.0000\n",
            "Epoch 30/35\n",
            "16/16 [==============================] - 0s 7ms/step - loss: 0.0777 - accuracy: 0.9766 - val_loss: 0.0287 - val_accuracy: 1.0000\n",
            "Epoch 31/35\n",
            "16/16 [==============================] - 0s 7ms/step - loss: 0.0947 - accuracy: 0.9551 - val_loss: 0.0274 - val_accuracy: 1.0000\n",
            "Epoch 32/35\n",
            "16/16 [==============================] - 0s 7ms/step - loss: 0.0828 - accuracy: 0.9668 - val_loss: 0.0264 - val_accuracy: 1.0000\n",
            "Epoch 33/35\n",
            "16/16 [==============================] - 0s 7ms/step - loss: 0.0770 - accuracy: 0.9785 - val_loss: 0.0248 - val_accuracy: 1.0000\n",
            "Epoch 34/35\n",
            "16/16 [==============================] - 0s 7ms/step - loss: 0.0918 - accuracy: 0.9727 - val_loss: 0.0239 - val_accuracy: 1.0000\n",
            "Epoch 35/35\n",
            "16/16 [==============================] - 0s 8ms/step - loss: 0.0737 - accuracy: 0.9707 - val_loss: 0.0232 - val_accuracy: 1.0000\n"
          ]
        }
      ]
    },
    {
      "cell_type": "markdown",
      "source": [
        "as from the above model we can see that in every epoch the accuracy is 0.9 ,this defines that the particular dataset is suitable for CNN model.\n",
        "There is less loss"
      ],
      "metadata": {
        "id": "j1vCC-FFIXJo"
      }
    },
    {
      "cell_type": "code",
      "source": [
        "def plotLearningCurve(history,epochs):\n",
        "  epochRange = range(1,epochs+1)\n",
        "  plt.plot(epochRange,history.history['accuracy'])\n",
        "  plt.plot(epochRange,history.history['val_accuracy'])\n",
        "  plt.title('Model Accuracy')\n",
        "  plt.xlabel('Epoch')\n",
        "  plt.ylabel('Accuracy')\n",
        "  plt.legend(['Train','Validation'],loc='upper left')\n",
        "  plt.show()\n",
        "\n",
        "  plt.plot(epochRange,history.history['loss'])\n",
        "  plt.plot(epochRange,history.history['val_loss'])\n",
        "  plt.title('Model Loss')\n",
        "  plt.xlabel('Epoch')\n",
        "  plt.ylabel('Loss')\n",
        "  plt.legend(['Train','Validation'],loc='upper left')\n",
        "  plt.show()"
      ],
      "metadata": {
        "id": "wk5VHxbxbJOO"
      },
      "execution_count": null,
      "outputs": []
    },
    {
      "cell_type": "markdown",
      "source": [
        "**INFERENCE**\n",
        "\n",
        "From the below graph we can interpret that model accuracy is of train and validation is growing as per the epochs,where as the model loss is is decreasing as the epochs.\n",
        "\n",
        "From thr below graph we can also say that the model is overfitting as the testing data and the training data are similar"
      ],
      "metadata": {
        "id": "5VezAYEHI_qQ"
      }
    },
    {
      "cell_type": "markdown",
      "source": [
        "The line of Validation and the train are colliding which indicates that the model is accurate for the CNN"
      ],
      "metadata": {
        "id": "SyU5KZHUJgWo"
      }
    },
    {
      "cell_type": "code",
      "source": [
        "plotLearningCurve(history,35)"
      ],
      "metadata": {
        "colab": {
          "base_uri": "https://localhost:8080/",
          "height": 573
        },
        "id": "5NObun9tbMwu",
        "outputId": "acc79de3-7ae6-49e2-bb4a-6cfb138bab75"
      },
      "execution_count": null,
      "outputs": [
        {
          "output_type": "display_data",
          "data": {
            "text/plain": [
              "<Figure size 432x288 with 1 Axes>"
            ],
            "image/png": "[encoded data removed]"
          },
          "metadata": {
            "needs_background": "light"
          }
        },
        {
          "output_type": "display_data",
          "data": {
            "text/plain": [
              "<Figure size 432x288 with 1 Axes>"
            ],
            "image/png": "[encoded data removed]"
          },
          "metadata": {
            "needs_background": "light"
          }
        }
      ]
    }
  ]
}